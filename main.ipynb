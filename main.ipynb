{
 "cells": [
  {
   "cell_type": "markdown",
   "id": "b6bb48b7-d2b8-4964-8c6a-38f2dc0a8039",
   "metadata": {
    "tags": []
   },
   "source": [
    "# **Modules**"
   ]
  },
  {
   "cell_type": "code",
   "execution_count": 1,
   "id": "468e0cff-40f0-49ef-99d4-534e85e867ad",
   "metadata": {
    "tags": []
   },
   "outputs": [
    {
     "name": "stderr",
     "output_type": "stream",
     "text": [
      "Matplotlib created a temporary config/cache directory at /tmp/matplotlib-dbswfmhu because the default path (/home/fervent_babbage/.config/matplotlib) is not a writable directory; it is highly recommended to set the MPLCONFIGDIR environment variable to a writable directory, in particular to speed up the import of Matplotlib and to better support multiprocessing.\n"
     ]
    }
   ],
   "source": [
    "import warnings\n",
    "warnings.filterwarnings('ignore')\n",
    "\n",
    "from sklearn.model_selection import train_test_split\n",
    "from sklearn.experimental import enable_iterative_imputer\n",
    "from sklearn.impute import SimpleImputer, KNNImputer, IterativeImputer\n",
    "from sklearn.metrics import mean_squared_error, mean_absolute_error\n",
    "from sklearn.preprocessing import RobustScaler\n",
    "from sklearn.preprocessing import StandardScaler\n",
    "from sklearn.preprocessing import MinMaxScaler\n",
    "\n",
    "import torch\n",
    "import torch.nn as nn\n",
    "from torch.optim.lr_scheduler import ExponentialLR\n",
    "import torch.nn.functional as F\n",
    "from torch.utils.data import Dataset\n",
    "from torch.utils.data import DataLoader\n",
    "\n",
    "import datetime\n",
    "import numpy as np\n",
    "import pandas as pd\n",
    "\n",
    "import copy\n",
    "import math\n",
    "\n",
    "import scipy.stats as stats\n",
    "\n",
    "import matplotlib.pyplot as plt\n",
    "import seaborn as sns\n",
    "plt.rc('figure', figsize=(12, 3))\n",
    "\n",
    "from typing import Literal, Tuple\n",
    "\n",
    "from IPython.display import display, clear_output"
   ]
  },
  {
   "cell_type": "markdown",
   "id": "85cec8ad-72a0-447f-83e7-e08ff498074b",
   "metadata": {
    "tags": []
   },
   "source": [
    "# **Config**"
   ]
  },
  {
   "cell_type": "code",
   "execution_count": 2,
   "id": "4591c7a8-3d81-426e-b1c2-3ff27998a34a",
   "metadata": {
    "tags": []
   },
   "outputs": [],
   "source": [
    "# !!! Run first data_generation.ipynb to generate these files from the main data csv stored in drive !!! \n",
    "train_path = './data/train_per_hour.csv'\n",
    "val_path = './data/val_per_hour.csv'\n",
    "test_path = './data/test_per_hour.csv'"
   ]
  },
  {
   "cell_type": "code",
   "execution_count": 3,
   "id": "55f802bd-af74-48e2-8dd7-7cc0d1d906ec",
   "metadata": {
    "tags": []
   },
   "outputs": [
    {
     "data": {
      "text/plain": [
       "<torch._C.Generator at 0x7ff860d1f7d0>"
      ]
     },
     "execution_count": 3,
     "metadata": {},
     "output_type": "execute_result"
    }
   ],
   "source": [
    "# Fixed parameters\n",
    "## Missing ratio for masked values\n",
    "missing_ratio = 0.3\n",
    "## Default value to replace the nan before being feeded to NN\n",
    "val_spec = 0\n",
    "## Each sample is a subsequence of length 48 (2days)\n",
    "seq_length = 48\n",
    "## Random seed\n",
    "random_state = 42\n",
    "torch.manual_seed(random_state)"
   ]
  },
  {
   "cell_type": "code",
   "execution_count": 4,
   "id": "3a1e4cb1-bc47-4eba-b1de-8341b796b7cb",
   "metadata": {
    "tags": []
   },
   "outputs": [],
   "source": [
    "# Common Hyperparameters for models\n",
    "## Batch and epochs size\n",
    "batch_size = 32\n",
    "epochs = 50\n",
    "## Dropout probability\n",
    "dropout=0.5\n",
    "## Learning rate\n",
    "learning_rate = 0.001"
   ]
  },
  {
   "cell_type": "code",
   "execution_count": 5,
   "id": "54a535b4-355e-4150-aa92-a880ece0174f",
   "metadata": {
    "tags": []
   },
   "outputs": [],
   "source": [
    "# List of statistical methods covered\n",
    "class_methods = ['mean','median','mode','LOCF','NOCB','linear_interpolation','spline_interpolation','knn','mice']"
   ]
  },
  {
   "cell_type": "markdown",
   "id": "c0d537b6-fef0-4d57-a215-85595eef20a5",
   "metadata": {
    "tags": []
   },
   "source": [
    "# **Data preprocessing**"
   ]
  },
  {
   "cell_type": "code",
   "execution_count": 6,
   "id": "c56b3eb4-2339-48f2-839d-a58a989fc717",
   "metadata": {
    "tags": []
   },
   "outputs": [],
   "source": [
    "def preprocess_data(train_path:str,val_path:str,test_path:str,scaler:callable)->Tuple[pd.DataFrame,pd.DataFrame,pd.DataFrame]:\n",
    "    \"\"\"\n",
    "    Preprocess Data\n",
    "    :param train_path: Path to train data\n",
    "    :param val_path: Path to validation data\n",
    "    :param test_path: Path to test data\n",
    "    :param scaler: Scaler to use\n",
    "    :return: Preprocessed train, validation and test data\n",
    "    \"\"\"\n",
    "    # Read Data\n",
    "    train = pd.read_csv(train_path)\n",
    "    val = pd.read_csv(val_path)\n",
    "    test = pd.read_csv(test_path)\n",
    "    # Drop Date Column\n",
    "    train.drop(['Date'],axis=1,inplace=True)\n",
    "    val.drop(['Date'],axis=1,inplace=True)\n",
    "    test.drop(['Date'],axis=1,inplace=True)    \n",
    "    # Scale Data\n",
    "    train = pd.DataFrame(scaler.fit_transform(train),columns=train.columns)\n",
    "    val = pd.DataFrame(scaler.transform(val),columns=val.columns)\n",
    "    test = pd.DataFrame(scaler.transform(test),columns=test.columns)\n",
    "    return train, val, test"
   ]
  },
  {
   "cell_type": "code",
   "execution_count": 7,
   "id": "02431299-5cca-4e42-982d-759c7be8221f",
   "metadata": {
    "tags": []
   },
   "outputs": [],
   "source": [
    "def generate_MCAR_nans(df:pd.DataFrame, missing_ratio:int,random_state:int)->Tuple[pd.DataFrame,np.ndarray]:\n",
    "    \"\"\"\n",
    "    Generate Missing values in MCAR way\n",
    "    :param df: Dataframe to be masked\n",
    "    :param missing_ratio: Missing ratio per each feature\n",
    "    :param random_state: Random state\n",
    "    :return: Dataframe with missing values and mask\n",
    "    \"\"\"\n",
    "    np.random.seed(random_state)\n",
    "    df_nan = df.mask(np.random.random(df.shape) < missing_ratio,inplace=False)\n",
    "    mask = np.isnan(df_nan.values).astype(int)\n",
    "    return df_nan, mask"
   ]
  },
  {
   "cell_type": "code",
   "execution_count": 8,
   "id": "ad713793-972a-4ca6-b781-41f59ab7d281",
   "metadata": {
    "tags": []
   },
   "outputs": [],
   "source": [
    "train, val, test = preprocess_data(train_path,val_path,test_path,MinMaxScaler()) "
   ]
  },
  {
   "cell_type": "code",
   "execution_count": 9,
   "id": "17cc4818-ff2a-43fa-bf98-4584754657e8",
   "metadata": {
    "tags": []
   },
   "outputs": [],
   "source": [
    "test_nan, test_mask = generate_MCAR_nans(test, missing_ratio,random_state) # 1 for nan"
   ]
  },
  {
   "cell_type": "markdown",
   "id": "6b79654f-a8fe-47be-a631-436a9924de16",
   "metadata": {
    "tags": []
   },
   "source": [
    "# **Performance Evaluation Utils**"
   ]
  },
  {
   "cell_type": "code",
   "execution_count": 10,
   "id": "db29ffb7-fb05-44e8-87a7-b16e3deb7cc4",
   "metadata": {
    "tags": []
   },
   "outputs": [],
   "source": [
    "def evaluate_imputation_mse(df: pd.DataFrame, df_imputed: pd.DataFrame, mask: np.ndarray,method_title: str)->pd.DataFrame:\n",
    "    \"\"\"\n",
    "    Evaluate the imputation performance by calculating the mean squared error (MSE) between the imputed and the original data.\n",
    "    :param df: original data\n",
    "    :param df_imputed: imputed data\n",
    "    :param mask: mask of the missing values\n",
    "    :param method_title: title of the imputation method\n",
    "    :return: pd.DataFrame with the MSE\n",
    "    \"\"\"\n",
    "    df = df * mask\n",
    "    df_imputed = df_imputed * mask\n",
    "    n = mask.sum()\n",
    "    mse = 1/n * np.sum((df_imputed - df) ** 2).sum()\n",
    "    result = pd.DataFrame({'method':method_title,'mse':mse},index = [0])\n",
    "    return result"
   ]
  },
  {
   "cell_type": "code",
   "execution_count": 11,
   "id": "a5b090a3-c9a9-4fea-8f3d-14dfba75ca31",
   "metadata": {
    "tags": []
   },
   "outputs": [],
   "source": [
    "def t_test(df: pd.DataFrame,df_imputed: pd.DataFrame, mask: np.ndarray, method_title: str)->pd.DataFrame:\n",
    "    \"\"\"\n",
    "    T-test for the imputed data and the original data\n",
    "    :param df: original data\n",
    "    :param df_imputed: imputed data\n",
    "    :param mask: mask for the original data\n",
    "    :param method_title: title of the imputation method\n",
    "    :return: a dataframe with the p-value of the t-test for each column\n",
    "    \"\"\"\n",
    "    df_imputed = df_imputed * mask + df_imputed *(1 - mask)\n",
    "    ttest = stats.ttest_ind(df.values, df_imputed.values)\n",
    "    test_stat = pd.DataFrame(columns=['method','column','p-value','same_distribution']) \n",
    "    for n in range(len(ttest.pvalue)): \n",
    "        test_stat.loc[n] = [method_title,df.columns[n], ttest.pvalue[n],ttest.pvalue[n]<0.05 ]                   \n",
    "    return test_stat"
   ]
  },
  {
   "cell_type": "code",
   "execution_count": 12,
   "id": "b42db3bb-4d82-45f6-a0a9-92f426d5fce7",
   "metadata": {
    "tags": []
   },
   "outputs": [],
   "source": [
    "def evaluate_set(list_methods: list,test: pd.DataFrame,test_nan: pd.DataFrame,test_mask: np.ndarray)->Tuple[pd.DataFrame,pd.DataFrame]:\n",
    "    \"\"\"\n",
    "    Evaluate the imputation methods on the test set\n",
    "    :param list_methods: list of imputation methods\n",
    "    :param test: test set\n",
    "    :param test_nan: test set with missing values\n",
    "    :param test_mask: mask of missing values\n",
    "    :return: a tuple of two dataframes, the first one contains the mse of each imputation method, the second one contains the t-test results\n",
    "    \"\"\"\n",
    "    evals = pd.DataFrame()\n",
    "    tests = pd.DataFrame()\n",
    "    for strat in list_methods:\n",
    "        df_imputed = classical_imputer(test_nan,strat)\n",
    "        evals = pd.concat([evals,evaluate_imputation_mse(test,df_imputed,test_mask, strat)])\n",
    "        tests = pd.concat([tests,t_test(test,df_imputed,test_mask,strat)])\n",
    "    evals.sort_values(by=[\"mse\"], inplace = True)\n",
    "    evals.reset_index(drop=True, inplace=True)\n",
    "    return evals,tests"
   ]
  },
  {
   "cell_type": "markdown",
   "id": "07638c81-885e-4d3f-a998-6a4d9a760c61",
   "metadata": {
    "tags": []
   },
   "source": [
    "# **Classical Imputation Methods**"
   ]
  },
  {
   "cell_type": "code",
   "execution_count": 13,
   "id": "a46e6614-9a18-404f-8941-07979e8b9179",
   "metadata": {
    "tags": []
   },
   "outputs": [],
   "source": [
    "def classical_imputer(test: pd.DataFrame,strategy: \n",
    "    Literal['mean','median','mode','LOCF','NOCB','linear_interpolation','spline_interpolation','knn','mice'],\n",
    "    spline_order = 3,\n",
    "    random_state = random_state,\n",
    "    n_neighbors = 5)->pd.DataFrame:\n",
    "    \"\"\"\n",
    "    Impute missing values using classical imputation methods\n",
    "    :param test: Dataframe to impute\n",
    "    :param strategy: Imputation strategy\n",
    "    :param spline_order: Order of spline interpolation\n",
    "    :param random_state: Random state for mice imputation\n",
    "    :param n_neighbors: Number of neighbors for knn imputation\n",
    "    :return: Imputed dataframe\n",
    "    \"\"\"\n",
    "    try:\n",
    "        df = test.copy()\n",
    "        df_imputed = None\n",
    "        if strategy == 'mean':\n",
    "            mean_imp = SimpleImputer(strategy='mean')\n",
    "            df_imputed = pd.DataFrame(mean_imp.fit_transform(df),columns=df.columns)\n",
    "        elif strategy == 'median':\n",
    "            median_imp = SimpleImputer(strategy='median')\n",
    "            df_imputed = pd.DataFrame(median_imp.fit_transform(df),columns=df.columns)\n",
    "        elif strategy == 'mode':\n",
    "            most_frequent_imp = SimpleImputer(strategy='most_frequent')\n",
    "            df_imputed =  pd.DataFrame(most_frequent_imp.fit_transform(df), columns=df.columns)\n",
    "        elif strategy == 'LOCF':\n",
    "            df_imputed = df.fillna(method='ffill').fillna(method='bfill')\n",
    "        elif strategy == 'NOCB':\n",
    "            df_imputed = df.fillna(method='bfill').fillna(method='ffill')\n",
    "        elif strategy == 'linear_interpolation':\n",
    "            df_imputed = df.interpolate(method='linear',limit_direction='both')\n",
    "        elif strategy == 'spline_interpolation':\n",
    "            df_imputed = df.interpolate(method='spline',order=spline_order,limit_direction='both')\n",
    "        elif strategy == 'knn':\n",
    "            knn_imp = KNNImputer(n_neighbors=n_neighbors)\n",
    "            df_imputed = pd.DataFrame(knn_imp.fit_transform(df),columns=df.columns)\n",
    "        elif strategy == 'mice':\n",
    "            mice_imp = IterativeImputer(random_state=random_state)\n",
    "            df_imputed = pd.DataFrame(mice_imp.fit_transform(df),columns=df.columns)\n",
    "        else:\n",
    "            raise ValueError(\"Error : The strategy '{}' is not supported\".format(strategy))\n",
    "        return df_imputed\n",
    "    except ValueError as e:\n",
    "        raise(e)"
   ]
  },
  {
   "cell_type": "markdown",
   "id": "cfeb75fd-849e-4733-b2c6-aba09c68c996",
   "metadata": {
    "tags": []
   },
   "source": [
    "# **DataSet and DataLoaders for DL models**"
   ]
  },
  {
   "cell_type": "code",
   "execution_count": 14,
   "id": "7140020f-0f1c-4de1-8800-329243558e92",
   "metadata": {
    "tags": []
   },
   "outputs": [],
   "source": [
    "def random_mask_tensor(tensor:torch.Tensor, missing_ratio:float, seed:int, val_spec=val_spec)->Tuple[torch.Tensor,torch.Tensor]:\n",
    "    \"\"\"\n",
    "    Randomly masks a tensor with a given missing ratio.\n",
    "    :param tensor: the tensor to be masked\n",
    "    :param missing_ratio: The ratio of values to be masked\n",
    "    :return: the masked tensor and the mask tensor\n",
    "    \"\"\"\n",
    "    # Calculate the number of values to mask\n",
    "    torch.manual_seed(seed)\n",
    "    torch.backends.cudnn.deterministic = True\n",
    "    num_masked_values = int(tensor.numel() * missing_ratio)\n",
    "    # Create a mask tensor with the same shape as the input tensor\n",
    "    mask = torch.ones_like(tensor)\n",
    "    # Randomly select values to be masked and set their corresponding mask tensor values to 0\n",
    "    mask_indices = torch.randperm(tensor.numel())[:num_masked_values]\n",
    "    mask = mask.flatten()\n",
    "    mask[mask_indices] = 0\n",
    "    mask = mask.reshape(tensor.shape)\n",
    "    mask = 1 - mask \n",
    "    mask = mask.bool() \n",
    "    # Mask the input tensor\n",
    "    masked_tensor = tensor.masked_fill(mask, val_spec)\n",
    "    # Return the masked tensor and the mask tensor\n",
    "    return masked_tensor, mask"
   ]
  },
  {
   "cell_type": "code",
   "execution_count": 15,
   "id": "be571c91-1de2-4235-b5e9-b898a9830cf1",
   "metadata": {
    "tags": []
   },
   "outputs": [],
   "source": [
    "class TSImputationTrainDataset(Dataset):\n",
    "    \"\"\"Time series imputation dataset for training\"\"\"\n",
    "    def __init__(self, df, seq_length,missing_ratio):\n",
    "        self.data = torch.tensor(df.values,dtype=torch.float32)\n",
    "        self.seq_length = seq_length\n",
    "        self.missing_ratio = missing_ratio \n",
    "            \n",
    "    def __len__(self):\n",
    "        return len(self.data) - self.seq_length\n",
    "\n",
    "    def __getitem__(self, index):\n",
    "        assert(len(self.data)>=self.seq_length)\n",
    "        # Get a sequence of data of length seq_length\n",
    "        target = self.data[index:index+self.seq_length]\n",
    "        # generate masked input and the mask\n",
    "        masked_input, mask = random_mask_tensor(target,self.missing_ratio,index)\n",
    "        return target, masked_input, mask"
   ]
  },
  {
   "cell_type": "code",
   "execution_count": 16,
   "id": "27b821ee-1d56-4eb3-bb4b-0eafc41dff97",
   "metadata": {
    "tags": []
   },
   "outputs": [],
   "source": [
    "class TSImputationEvalDataset(Dataset):\n",
    "    \"\"\"Time series imputation dataset for testing\"\"\"\n",
    "    def __init__(self, df, df_nan, mask, seq_length, val_spec):\n",
    "        self.seq_length = seq_length\n",
    "        self.data = torch.tensor(df.values,dtype=torch.float32)\n",
    "        self.data_nan = torch.tensor(df_nan.values,dtype=torch.float32)\n",
    "        self.mask = torch.tensor(mask,dtype=torch.bool)\n",
    "        self.val_spec = val_spec\n",
    "        \n",
    "    def __len__(self):\n",
    "        return math.ceil(len(self.data)/self.seq_length)\n",
    "        \n",
    "\n",
    "    def __getitem__(self, index):\n",
    "        # Get a sequence of data of length seq_length or less\n",
    "        start = index*self.seq_length\n",
    "        end = (index+1)*self.seq_length\n",
    "        target = self.data[start:end]\n",
    "        masked_input = self.data_nan[start:end]\n",
    "        val_spec = self.val_spec\n",
    "\n",
    "        mask = self.mask[start:end]\n",
    "        if end > len(self.data) and start<len(self.data):\n",
    "            padding = val_spec * torch.ones(self.seq_length - len(target), self.data.shape[1])\n",
    "            target = torch.cat([target,padding], dim=0)\n",
    "            masked_input = torch.cat([masked_input, padding], dim=0)\n",
    "            mask = torch.cat([mask, torch.zeros(self.seq_length - len(target), self.data.shape[1]).bool()], dim=0)\n",
    "        masked_input[torch.isnan(masked_input)] = val_spec\n",
    "        return target, masked_input, mask"
   ]
  },
  {
   "cell_type": "code",
   "execution_count": 17,
   "id": "40db34e3-3aa8-47e7-bf19-d84de92f361f",
   "metadata": {
    "tags": []
   },
   "outputs": [],
   "source": [
    "train_dataset = TSImputationTrainDataset(train,seq_length,missing_ratio)\n",
    "val_dataset = TSImputationTrainDataset(val,seq_length,missing_ratio)\n",
    "test_dataset = TSImputationEvalDataset(test,test_nan,test_mask,seq_length,val_spec)"
   ]
  },
  {
   "cell_type": "code",
   "execution_count": 18,
   "id": "a2deb689-0af4-4687-89c2-1a5a9c93d4ce",
   "metadata": {
    "tags": []
   },
   "outputs": [],
   "source": [
    "train_loader = DataLoader(train_dataset, batch_size=batch_size, shuffle=True)\n",
    "val_loader = DataLoader(val_dataset, batch_size=batch_size, shuffle=False)\n",
    "test_loader = DataLoader(test_dataset, batch_size=1, shuffle=False)"
   ]
  },
  {
   "cell_type": "code",
   "execution_count": 19,
   "id": "d53c65cd-34a0-4c49-af6e-3fbbc7623f37",
   "metadata": {
    "tags": []
   },
   "outputs": [
    {
     "name": "stdout",
     "output_type": "stream",
     "text": [
      "total training batch number: 225\n",
      "total validation batch number: 56\n",
      "total test batch number: 82\n"
     ]
    }
   ],
   "source": [
    "print('total training batch number: {}'.format(len(train_loader)))\n",
    "print('total validation batch number: {}'.format(len(val_loader)))\n",
    "print('total test batch number: {}'.format(len(test_loader)))"
   ]
  },
  {
   "cell_type": "markdown",
   "id": "30db3d28-a72a-4051-a730-79890830b382",
   "metadata": {
    "tags": []
   },
   "source": [
    "# **DL models**"
   ]
  },
  {
   "cell_type": "markdown",
   "id": "25d6017b-ed6d-481f-ae34-548e3c0c1990",
   "metadata": {
    "tags": []
   },
   "source": [
    "## **Utils**"
   ]
  },
  {
   "cell_type": "code",
   "execution_count": 20,
   "id": "89e2713e-5b3f-4ac2-af8c-299e80fb1051",
   "metadata": {
    "tags": []
   },
   "outputs": [],
   "source": [
    "class MaskedMSELoss(nn.Module):\n",
    "    \"\"\" Masked MSE Loss\n",
    "    \"\"\"\n",
    "    def __init__(self, reduction: str = 'mean'):\n",
    "        super().__init__()\n",
    "        self.reduction = reduction\n",
    "        self.mse_loss = nn.MSELoss(reduction=self.reduction)\n",
    "\n",
    "    def forward(self,\n",
    "                y_pred: torch.Tensor, y_true: torch.Tensor, mask: torch.BoolTensor) -> torch.Tensor:\n",
    "        \"\"\"Compute the loss between a target value and a prediction.\n",
    "        Args:\n",
    "            y_pred: Estimated values\n",
    "            y_true: Target values\n",
    "            mask: boolean tensor with 0s at places where values should be ignored and 1s where they should be considered\n",
    "        Returns\n",
    "        -------\n",
    "        if reduction == 'none':\n",
    "            (num_active,) Loss for each active batch element as a tensor with gradient attached.\n",
    "        if reduction == 'mean':\n",
    "            scalar mean loss over batch as a tensor with gradient attached.\n",
    "        \"\"\"\n",
    "\n",
    "        # for this particular loss, one may also elementwise multiply y_pred and y_true with the inverted mask\n",
    "        masked_pred = torch.masked_select(y_pred, mask)\n",
    "        masked_true = torch.masked_select(y_true, mask)\n",
    "\n",
    "        return self.mse_loss(masked_pred, masked_true)"
   ]
  },
  {
   "cell_type": "code",
   "execution_count": 21,
   "id": "95a9a3e1-ae87-46d3-8354-5a07396769e0",
   "metadata": {
    "tags": []
   },
   "outputs": [],
   "source": [
    "class HuberLossWithMask(nn.Module):\n",
    "    def __init__(self, delta=1.0):\n",
    "        super(HuberLossWithMask, self).__init__()\n",
    "        self.delta = delta\n",
    "\n",
    "    def forward(self, y_true, y_pred, mask):\n",
    "        error = y_true - y_pred\n",
    "        abs_error = torch.abs(error)\n",
    "        quadratic = torch.clamp(abs_error, max=self.delta)\n",
    "        linear = abs_error - quadratic\n",
    "        loss = 0.5 * quadratic ** 2 + self.delta * linear\n",
    "        masked_loss = loss * mask.float()\n",
    "        return masked_loss.mean()"
   ]
  },
  {
   "cell_type": "code",
   "execution_count": 22,
   "id": "21329f23-f6b5-4bd9-89c1-baa26eada957",
   "metadata": {
    "tags": []
   },
   "outputs": [],
   "source": [
    "def clones(module, N):\n",
    "    \"Produce N identical layers.\"\n",
    "    return nn.ModuleList([copy.deepcopy(module) for _ in range(N)]) "
   ]
  },
  {
   "cell_type": "code",
   "execution_count": 23,
   "id": "1b442213-2122-4ca8-bc10-bd23f0861fa5",
   "metadata": {
    "tags": []
   },
   "outputs": [],
   "source": [
    "def count_parameters(model):\n",
    "    nb_params = sum(p.numel() for p in model.parameters() if p.requires_grad)\n",
    "    print('This model has ',nb_params , ' parameter')\n",
    "    return nb_params"
   ]
  },
  {
   "cell_type": "code",
   "execution_count": 24,
   "id": "f7887234-40eb-4489-a7a0-4ef12578485b",
   "metadata": {
    "tags": []
   },
   "outputs": [],
   "source": [
    "def load_model(model,model_path):\n",
    "    model.load_state_dict(torch.load(model_path)['model_state_dict'])\n",
    "    model.eval()\n",
    "    return model"
   ]
  },
  {
   "cell_type": "code",
   "execution_count": 25,
   "id": "8f64e1da-fe64-4458-b483-eb7840d98a42",
   "metadata": {
    "tags": []
   },
   "outputs": [],
   "source": [
    "# to test models that takes sequences as input (ex: AE_LSTM , AE_CONV)\n",
    "def test_model_Seq(model,test_loader):\n",
    "    test_predicted = []\n",
    "    test_or = []\n",
    "\n",
    "    for target, masked_input, mask in test_loader:\n",
    "        if torch.cuda.is_available():\n",
    "            target, masked_input, mask = target.cuda(), masked_input.cuda(), mask.cuda()\n",
    "        output = model(masked_input)\n",
    "        test_predicted.append(output)\n",
    "        test_or.append(target)\n",
    "        \n",
    "    test_predicted = torch.cat(test_predicted, dim=0)\n",
    "    test_predicted = torch.reshape(test_predicted,(test_predicted.shape[0]*test_predicted.shape[1],test_predicted.shape[2]))\n",
    "    test_or = torch.cat(test_or, dim=0)\n",
    "    test_or = torch.reshape(test_or,(test_or.shape[0]*test_or.shape[1],test_or.shape[2]))\n",
    "    \n",
    "    test_predicted = pd.DataFrame(test_predicted[:len(test)].cpu().detach().numpy(),columns=test.columns)\n",
    "    test_or = pd.DataFrame(test_or[:len(test)].cpu().detach().numpy(),columns=test.columns)\n",
    "\n",
    "    return test_or, test_predicted"
   ]
  },
  {
   "cell_type": "code",
   "execution_count": 26,
   "id": "06a2a99b-9f62-40dd-acfe-be087693cf82",
   "metadata": {
    "tags": []
   },
   "outputs": [],
   "source": [
    "# to test models that takes the flatten sequence as input (in our case only: MLP_AE)\n",
    "def test_model_AE(model,test_loader):\n",
    "    test_predicted = []\n",
    "    test_or = []\n",
    "    for target, masked_input, mask in test_loader:\n",
    "        if torch.cuda.is_available():\n",
    "            target, masked_input, mask = target.cuda(), masked_input.cuda(), mask.cuda()\n",
    "        target = target.view(target.shape[0],target.shape[2]*target.shape[1])\n",
    "        masked_input = masked_input.view(masked_input.shape[0],masked_input.shape[2]*masked_input.shape[1])\n",
    "        output = model(masked_input)        \n",
    "        test_predicted.append(output)\n",
    "        test_or.append(target)\n",
    "   \n",
    "    test_predicted = torch.cat(test_predicted, dim=0)\n",
    "    testing=test_predicted.view(test_predicted.shape[0]*seq_length,test.shape[1])\n",
    "    test_or = torch.cat(test_or, dim=0)\n",
    "    test_or=test_or.view(test_predicted.shape[0]*seq_length,test.shape[1])\n",
    "    \n",
    "    testing=pd.DataFrame(testing[:len(test)].cpu().detach().numpy(),columns=test.columns)\n",
    "    test_or=pd.DataFrame(test_or[:len(test)].cpu().detach().numpy(),columns=test.columns)\n",
    "\n",
    "    return test_or, testing"
   ]
  },
  {
   "cell_type": "code",
   "execution_count": 69,
   "id": "2aec3496-95a9-4ccb-888f-d9a229fa63d9",
   "metadata": {
    "tags": []
   },
   "outputs": [],
   "source": [
    "# to test transformer model\n",
    "def test_model_TS(model,test_loader):\n",
    "    test_predicted = []\n",
    "    test_or = []\n",
    "\n",
    "    for target, masked_input, mask in test_loader:\n",
    "        if torch.cuda.is_available():\n",
    "            target, masked_input, mask = target.cuda(), masked_input.cuda(), mask.cuda()\n",
    "        output = model(masked_input,None)\n",
    "        test_predicted.append(output)\n",
    "        test_or.append(target)\n",
    "        \n",
    "    test_predicted = torch.cat(test_predicted, dim=0)\n",
    "    test_predicted = torch.reshape(test_predicted,(test_predicted.shape[0]*test_predicted.shape[1],test_predicted.shape[2]))\n",
    "    test_or = torch.cat(test_or, dim=0)\n",
    "    test_or = torch.reshape(test_or,(test_or.shape[0]*test_or.shape[1],test_or.shape[2]))\n",
    "    \n",
    "    test_predicted=pd.DataFrame(test_predicted[:len(test)].cpu().detach().numpy(),columns=test.columns)\n",
    "    test_or=pd.DataFrame(test_or[:len(test)].cpu().detach().numpy(),columns=test.columns)\n",
    "\n",
    "    return test_or, test_predicted"
   ]
  },
  {
   "cell_type": "markdown",
   "id": "25861337-1b1a-456c-87b9-7b913e6caf56",
   "metadata": {
    "tags": []
   },
   "source": [
    "## **MLP AutoEncoder**"
   ]
  },
  {
   "cell_type": "code",
   "execution_count": 27,
   "id": "30f4cc31-751e-49ca-9ccd-4947541f7d04",
   "metadata": {
    "tags": []
   },
   "outputs": [],
   "source": [
    "class FullyConnectedAutoencoder(nn.Module):\n",
    "    def __init__(self, input_dim, hidden_dim_1, hidden_dim_2, output_dim):\n",
    "        super().__init__()\n",
    "        # Encoder: affine function\n",
    "        self.fc1 = nn.Linear(input_dim, hidden_dim_1)\n",
    "        self.fc2 = nn.Linear(hidden_dim_1, hidden_dim_2)\n",
    "        # Decoder: affine function\n",
    "        self.fc3 = nn.Linear(hidden_dim_2, hidden_dim_1)\n",
    "        self.fc4 = nn.Linear(hidden_dim_1, output_dim)\n",
    "\n",
    "    def forward(self, x):\n",
    "        # Encoder\n",
    "        out = self.fc1(x)\n",
    "        out = F.relu(out)\n",
    "        out = self.fc2(out)\n",
    "        out = F.relu(out)\n",
    "\n",
    "        # Decoder\n",
    "        out = self.fc3(out)\n",
    "        out = F.relu(out)\n",
    "        out = self.fc4(out)\n",
    "        out = torch.sigmoid(out)\n",
    "\n",
    "        return out"
   ]
  },
  {
   "cell_type": "markdown",
   "id": "a7ec91f2-2a12-4ee4-9708-9db1a725cf31",
   "metadata": {
    "tags": []
   },
   "source": [
    "### **Train the AutoEncoder**"
   ]
  },
  {
   "cell_type": "code",
   "execution_count": 28,
   "id": "d277779f-9340-4a78-9559-73f773685a48",
   "metadata": {
    "tags": []
   },
   "outputs": [],
   "source": [
    "# Parameters\n",
    "## subsequence dimension 7*48\n",
    "input_dim = train.shape[1] * seq_length\n",
    "## output dimension\n",
    "output_dim = input_dim"
   ]
  },
  {
   "cell_type": "code",
   "execution_count": 29,
   "id": "0bd0ac3f-3bb0-4c64-8a35-44ea6939e576",
   "metadata": {
    "tags": []
   },
   "outputs": [],
   "source": [
    "# Hyperparameters\n",
    "## This is the parameter finetune for this model\n",
    "reduction_parameter = 0.8\n",
    "hidden_dim_1 = int(input_dim * reduction_parameter)\n",
    "hidden_dim_2 = int(hidden_dim_1 * reduction_parameter)"
   ]
  },
  {
   "cell_type": "code",
   "execution_count": 30,
   "id": "2f0d5ed8-2a57-4e6b-99dd-71bb4a11f01f",
   "metadata": {
    "tags": []
   },
   "outputs": [],
   "source": [
    "# Init model and loss function\n",
    "model_ae = FullyConnectedAutoencoder(input_dim, hidden_dim_1, hidden_dim_2, output_dim)\n",
    "if torch.cuda.is_available():\n",
    "    model_ae = model_ae.cuda()\n",
    "loss_fn = HuberLossWithMask()"
   ]
  },
  {
   "cell_type": "code",
   "execution_count": 31,
   "id": "bff84701-2cde-4199-a3b7-8d74d9944358",
   "metadata": {
    "tags": []
   },
   "outputs": [],
   "source": [
    "def train_model_AE(model,loss_fn,epochs,train_loader,val_loader, learning_rate=0.001, gamma=0.9):\n",
    "    \"\"\"\n",
    "    Train the autoencoder\n",
    "    :param model:model of class FullyConnectedAutoencoder\n",
    "    :param loss_fn: loss function\n",
    "    :param eopchs: number of epochs\n",
    "    :param train_loader: train loader\n",
    "    :param val_loader: validation loader\n",
    "    :param learning_rate: learning rate\n",
    "    :param gamma: multiplicative factor of learning rate decay\n",
    "    \"\"\"\n",
    "    optimizer = torch.optim.Adam(model.parameters(),lr = learning_rate)  \n",
    "    scheduler = ExponentialLR(optimizer, gamma=gamma)\n",
    "    \n",
    "    train_loss_list = []\n",
    "    val_loss_list = []\n",
    "    # train phase\n",
    "    for epoch in range(epochs):\n",
    "        # training phase\n",
    "        train_loss = 0\n",
    "        model.train()\n",
    "        for i, (target, masked_input, mask) in enumerate(train_loader):\n",
    "            target = target.view(target.shape[0],target.shape[2]*target.shape[1])\n",
    "            masked_input = masked_input.view(masked_input.shape[0],masked_input.shape[2]*masked_input.shape[1])\n",
    "            mask = mask.view(mask.shape[0],mask.shape[2]*mask.shape[1])\n",
    "            if torch.cuda.is_available():\n",
    "                target, masked_input, mask = target.cuda(), masked_input.cuda(), mask.cuda()\n",
    "            optimizer.zero_grad()\n",
    "            outputs = model(masked_input)\n",
    "            loss = loss_fn(outputs, target,mask)\n",
    "            loss.backward()\n",
    "            optimizer.step()\n",
    "            train_loss += loss.item()\n",
    "        scheduler.step()\n",
    "        \n",
    "        # validation phase  \n",
    "        valid_loss = 0.0\n",
    "        model.eval() \n",
    "        for batch in val_loader:\n",
    "            x, x_nan, mask = batch\n",
    "            x = x.view(x.shape[0],x.shape[2]*x.shape[1])\n",
    "            x_nan = x_nan.view(x_nan.shape[0],x_nan.shape[2]*x_nan.shape[1])\n",
    "            mask = mask.view(mask.shape[0],mask.shape[2]*mask.shape[1])\n",
    "            if torch.cuda.is_available():\n",
    "                x, x_nan, mask = x.cuda(), x_nan.cuda(), mask.cuda()\n",
    "            outputs = model(x_nan)\n",
    "            loss = loss_fn(outputs, x,mask)\n",
    "            valid_loss += loss.item()\n",
    "        train_loss_list.append(train_loss / len(train_loader))\n",
    "        val_loss_list.append(valid_loss/len(val_loader))\n",
    "        print('Epoch {}: train loss: {}, val loss: {}'.format(epoch,train_loss / len(train_loader),valid_loss/len(val_loader)))\n",
    "    # Saving State Dict\n",
    "    date_time = datetime.datetime.now()\n",
    "    index = ('_').join(str(date_time).split(' '))\n",
    "    PATH = './trained_models/AE_models/model_final_' + index\n",
    "    torch.save({\n",
    "    'epoch': epochs,\n",
    "    'batch_size': batch_size,\n",
    "    'learning_rate':learning_rate,\n",
    "    'model_state_dict': model.state_dict(),\n",
    "    'train_loss': train_loss_list,\n",
    "    'val_loss':val_loss_list,\n",
    "     'hidden_dim_1':hidden_dim_1,\n",
    "     'hidden_dim_2':hidden_dim_2\n",
    "    }, PATH)\n",
    "    clear_output()\n",
    "    print('last model version path: ',PATH)\n",
    "    return train_loss_list, val_loss_list"
   ]
  },
  {
   "cell_type": "code",
   "execution_count": 32,
   "id": "6428d674-2cc5-4768-8160-a6cfe34b2080",
   "metadata": {
    "tags": []
   },
   "outputs": [
    {
     "name": "stdout",
     "output_type": "stream",
     "text": [
      "This model has  295886  parameter\n"
     ]
    },
    {
     "data": {
      "text/plain": [
       "295886"
      ]
     },
     "execution_count": 32,
     "metadata": {},
     "output_type": "execute_result"
    }
   ],
   "source": [
    "count_parameters(model_ae)"
   ]
  },
  {
   "cell_type": "code",
   "execution_count": 33,
   "id": "90346d6f-e931-46a0-9d8f-e282c83fee50",
   "metadata": {
    "tags": []
   },
   "outputs": [
    {
     "name": "stdout",
     "output_type": "stream",
     "text": [
      "last model version path:  ./trained_models/AE_models/model_final_2023-03-05_08:34:52.351988\n"
     ]
    },
    {
     "data": {
      "text/plain": [
       "<Axes: xlabel='epochs'>"
      ]
     },
     "execution_count": 33,
     "metadata": {},
     "output_type": "execute_result"
    },
    {
     "data": {
      "image/png": "[encoded data removed]",
      "text/plain": [
       "<Figure size 1200x300 with 1 Axes>"
      ]
     },
     "metadata": {},
     "output_type": "display_data"
    }
   ],
   "source": [
    "train_loss_list, val_loss_list = train_model_AE(model_ae,loss_fn,epochs,train_loader,val_loader, gamma=0.9)\n",
    "df = pd.DataFrame({'epochs':[i for i in range(epochs)],'train_loss': train_loss_list,'val_loss': val_loss_list})\n",
    "df.plot(x=\"epochs\", y=[\"train_loss\", \"val_loss\"],kind=\"line\")"
   ]
  },
  {
   "cell_type": "markdown",
   "id": "450f11bc-6d42-4f74-a9d7-c911c8ed7593",
   "metadata": {},
   "source": [
    "# **ConvAE**"
   ]
  },
  {
   "cell_type": "code",
   "execution_count": 34,
   "id": "db3509a0-b224-4a20-9420-af59b6fc0991",
   "metadata": {
    "tags": []
   },
   "outputs": [],
   "source": [
    "class ConvAutoencoder(nn.Module):\n",
    "    def __init__(self,T,D,hidden_dim1,hidden_dim2,in_channels=1,out_channels_1=16,out_channels_2=8):\n",
    "        super(ConvAutoencoder, self).__init__()\n",
    "        self.T = T\n",
    "        self.D = D\n",
    "        ## Encoder\n",
    "        self.encoder = nn.Sequential(\n",
    "            nn.Conv2d(in_channels=in_channels, out_channels=out_channels_1, kernel_size=(3, 3), stride=(1, 1), padding=(1, 1)),\n",
    "            nn.ReLU(),\n",
    "            nn.Conv2d(in_channels=out_channels_1, out_channels=out_channels_2, kernel_size=(3, 3), stride=(1, 1), padding=(1, 1)),\n",
    "            nn.ReLU(),\n",
    "            nn.Flatten(start_dim=1),\n",
    "            nn.Linear(out_channels_2 * T * D, hidden_dim1),\n",
    "            nn.ReLU(True),\n",
    "            nn.Linear(hidden_dim1, hidden_dim2),\n",
    "            nn.ReLU(True)\n",
    "        )\n",
    "\n",
    "        ## Decoder\n",
    "        self.decoder = nn.Sequential(\n",
    "            nn.Linear(hidden_dim2, hidden_dim1),\n",
    "            nn.ReLU(True),\n",
    "            nn.Linear(hidden_dim1, out_channels_2 * T * D),\n",
    "            nn.ReLU(True),\n",
    "            nn.Unflatten(dim=1,unflattened_size=(out_channels_2, T, D)),\n",
    "            nn.ConvTranspose2d(in_channels=out_channels_2, out_channels=out_channels_1, kernel_size=(3, 3), stride=(1, 1), padding=(1, 1)),\n",
    "            nn.ReLU(),\n",
    "            nn.ConvTranspose2d(in_channels=out_channels_1, out_channels=in_channels, kernel_size=(3, 3), stride=(1, 1), padding=(1,1)),\n",
    "            nn.Sigmoid()\n",
    "        )\n",
    "    \n",
    "        \n",
    "    def forward(self, x):\n",
    "        x = x.unsqueeze(1)  # add a channel dimension to the input (N, T, D) -> (N, 1, T, D)\n",
    "        x = self.encoder(x)\n",
    "        x = self.decoder(x)\n",
    "        x = x.squeeze(1)  # remove the channel dimension from the output (N, 1, T, D) -> (N, T, D)\n",
    "        return x"
   ]
  },
  {
   "cell_type": "code",
   "execution_count": 35,
   "id": "f60e171b-b763-4f71-8966-89efe703df5e",
   "metadata": {
    "tags": []
   },
   "outputs": [],
   "source": [
    "# Parameters\n",
    "d_input = train.shape[1]\n",
    "input_dim = train.shape[1] * seq_length"
   ]
  },
  {
   "cell_type": "code",
   "execution_count": 36,
   "id": "bb4b9eb9-991e-4e8b-9541-9e554ae9425f",
   "metadata": {
    "tags": []
   },
   "outputs": [],
   "source": [
    "# Hyperparameters\n",
    "reduction_parameter = 0.5\n",
    "hidden_dim_1 = int(input_dim * reduction_parameter)\n",
    "hidden_dim_2 = int(hidden_dim_1 * reduction_parameter)"
   ]
  },
  {
   "cell_type": "code",
   "execution_count": 37,
   "id": "b28ee5cd-b464-4c36-8d41-e7e565bed9ac",
   "metadata": {
    "tags": []
   },
   "outputs": [],
   "source": [
    "#init model\n",
    "model_conv_ae = ConvAutoencoder(seq_length,d_input,hidden_dim1 = hidden_dim_1, hidden_dim2 = hidden_dim_2)\n",
    "if torch.cuda.is_available():\n",
    "    model_conv_ae = model_conv_ae.cuda()\n",
    "loss_fn = HuberLossWithMask()"
   ]
  },
  {
   "cell_type": "code",
   "execution_count": 38,
   "id": "aa4d82ea-8c9d-42da-96d6-8b120d6684a8",
   "metadata": {
    "tags": []
   },
   "outputs": [],
   "source": [
    "def train_model_Conv_AE(model,loss_fn,epochs,train_loader,val_loader, learning_rate=learning_rate, gamma=0.9):\n",
    "    optimizer = torch.optim.Adam(model.parameters(),lr = learning_rate)  \n",
    "    scheduler = ExponentialLR(optimizer, gamma=0.9)\n",
    "    train_loss_list = []\n",
    "    val_loss_list = []\n",
    "    for epoch in range(epochs):\n",
    "        # train phase\n",
    "        train_loss = 0\n",
    "        model.train()\n",
    "        for i, (target, masked_input, mask) in enumerate(train_loader):\n",
    "            if torch.cuda.is_available():\n",
    "                target, masked_input, mask = target.cuda(), masked_input.cuda(), mask.cuda()\n",
    "            optimizer.zero_grad()\n",
    "            outputs = model(masked_input)\n",
    "            loss = loss_fn(outputs, target,mask)\n",
    "            loss.backward()\n",
    "            optimizer.step()\n",
    "            train_loss += loss.item()\n",
    "        scheduler.step()\n",
    "        \n",
    "        # validation phase\n",
    "        valid_loss = 0.0\n",
    "        model.eval() \n",
    "        with torch.no_grad():\n",
    "            for batch in val_loader:\n",
    "                x, x_nan, mask = batch\n",
    "                if torch.cuda.is_available():\n",
    "                    x, x_nan, mask = x.cuda(), x_nan.cuda(), mask.cuda()\n",
    "                outputs = model(x_nan)\n",
    "                loss = loss_fn(outputs, x,mask)\n",
    "                valid_loss += loss.item()\n",
    "        train_loss_list.append(train_loss / len(train_loader))\n",
    "        val_loss_list.append(valid_loss/len(val_loader))\n",
    "        print('Epoch {}: train loss: {}, val loss: {}'.format(epoch,train_loss / len(train_loader),valid_loss/len(val_loader)))\n",
    "    # Saving State Dict\n",
    "    date_time = datetime.datetime.now()\n",
    "    index = ('_').join(str(date_time).split(' '))\n",
    "    PATH = './trained_models/CONV_AE_models/model_final_' + index\n",
    "    torch.save({\n",
    "    'epoch': epochs,\n",
    "    'batch_size': batch_size,\n",
    "    'learning_rate':learning_rate,\n",
    "    'hidden_dim_1':hidden_dim_1,\n",
    "    'hidden_dim_2':hidden_dim_2,\n",
    "    'missing_ratio': missing_ratio,\n",
    "    'model_state_dict': model.state_dict(),\n",
    "    'train_loss': train_loss_list,\n",
    "    'val_loss':val_loss_list\n",
    "    }, PATH)\n",
    "    clear_output()\n",
    "    print('last model version path: ',PATH)\n",
    "    return train_loss_list, val_loss_list"
   ]
  },
  {
   "cell_type": "code",
   "execution_count": 39,
   "id": "91046af3-a62d-44c6-9a0f-a9c80bf71f0b",
   "metadata": {
    "tags": []
   },
   "outputs": [
    {
     "name": "stdout",
     "output_type": "stream",
     "text": [
      "This model has  937133  parameter\n"
     ]
    },
    {
     "data": {
      "text/plain": [
       "937133"
      ]
     },
     "execution_count": 39,
     "metadata": {},
     "output_type": "execute_result"
    }
   ],
   "source": [
    "count_parameters(model_conv_ae)"
   ]
  },
  {
   "cell_type": "code",
   "execution_count": 40,
   "id": "75fb01b0-64aa-49e9-8635-73ad06b295ac",
   "metadata": {
    "tags": []
   },
   "outputs": [
    {
     "name": "stdout",
     "output_type": "stream",
     "text": [
      "last model version path:  ./trained_models/CONV_AE_models/model_final_2023-03-05_08:40:26.840775\n"
     ]
    },
    {
     "data": {
      "text/plain": [
       "<Axes: xlabel='epochs'>"
      ]
     },
     "execution_count": 40,
     "metadata": {},
     "output_type": "execute_result"
    },
    {
     "data": {
      "image/png": "[encoded data removed]",
      "text/plain": [
       "<Figure size 1200x300 with 1 Axes>"
      ]
     },
     "metadata": {},
     "output_type": "display_data"
    }
   ],
   "source": [
    "train_loss_list, val_loss_list = train_model_Conv_AE(model_conv_ae,loss_fn,epochs,train_loader,val_loader)\n",
    "df = pd.DataFrame({'epochs':[i for i in range(epochs)],'train_loss': train_loss_list,'val_loss': val_loss_list})\n",
    "df.plot(x=\"epochs\", y=[\"train_loss\", \"val_loss\"],kind=\"line\")"
   ]
  },
  {
   "cell_type": "markdown",
   "id": "c59717cd-d8f4-4a45-83f3-3c05d00cc48c",
   "metadata": {
    "tags": []
   },
   "source": [
    "## **LSTM AE**"
   ]
  },
  {
   "cell_type": "code",
   "execution_count": 41,
   "id": "b3a1ca2c-1ef6-4783-906f-875e8379c273",
   "metadata": {
    "tags": []
   },
   "outputs": [],
   "source": [
    "class Encoder_LSTM(nn.Module):\n",
    "    def __init__(self, seq_len, no_features, embedding_size):\n",
    "        super().__init__()\n",
    "        self.seq_len = seq_len\n",
    "        self.no_features = no_features \n",
    "        self.embedding_size = embedding_size\n",
    "        self.hidden_size = (2 * embedding_size)\n",
    "        self.LSTM1 = nn.LSTM(\n",
    "            input_size = no_features,\n",
    "            hidden_size = embedding_size,\n",
    "            num_layers = 1,\n",
    "            batch_first=True\n",
    "        )\n",
    "        \n",
    "    def forward(self, x):\n",
    "        x, (hidden_state, cell_state) = self.LSTM1(x)  \n",
    "        last_lstm_layer_hidden_state = hidden_state[-1,:,:]\n",
    "        return last_lstm_layer_hidden_state\n",
    "    \n",
    "    \n",
    "class Decoder_LSTM(nn.Module):\n",
    "    def __init__(self, seq_len, no_features, output_size):\n",
    "        super().__init__()\n",
    "\n",
    "        self.seq_len = seq_len\n",
    "        self.no_features = no_features\n",
    "        self.hidden_size = (2 * no_features)\n",
    "        self.output_size = output_size\n",
    "        self.LSTM1 = nn.LSTM(\n",
    "            input_size = no_features,\n",
    "            hidden_size = self.hidden_size,\n",
    "            num_layers = 1,\n",
    "            batch_first = True\n",
    "        )\n",
    "\n",
    "        self.fc = nn.Linear(self.hidden_size, output_size)\n",
    "        \n",
    "    def forward(self, x):\n",
    "        x = x.unsqueeze(1).repeat(1, self.seq_len, 1)\n",
    "        x, (hidden_state, cell_state) = self.LSTM1(x)\n",
    "        x = x.reshape((-1, self.seq_len, self.hidden_size))\n",
    "        out = self.fc(x)\n",
    "        return out\n",
    "    \n",
    "class LSTM_AE(nn.Module):\n",
    "    def __init__(self, seq_len, no_features, embedding_dim):\n",
    "        super().__init__()\n",
    "        \n",
    "        self.seq_len = seq_len\n",
    "        self.no_features = no_features\n",
    "        self.embedding_dim = embedding_dim\n",
    "        self.encoder = Encoder_LSTM(self.seq_len, self.no_features, self.embedding_dim)\n",
    "        self.decoder = Decoder_LSTM(self.seq_len, self.embedding_dim, self.no_features)\n",
    "    \n",
    "    def forward(self, x):\n",
    "        torch.manual_seed(0)\n",
    "        encoded = self.encoder(x)\n",
    "        decoded = self.decoder(encoded)\n",
    "        decoded = torch.sigmoid(decoded)\n",
    "        return decoded\n",
    "    \n",
    "    def encode(self, x):\n",
    "        self.eval()\n",
    "        encoded = self.encoder(x)\n",
    "        return encoded\n",
    "    \n",
    "    def decode(self, x):\n",
    "        self.eval()\n",
    "        decoded = self.decoder(x)\n",
    "        squeezed_decoded = decoded.squeeze()\n",
    "        return squeezed_decoded"
   ]
  },
  {
   "cell_type": "markdown",
   "id": "6e26d74c-37f0-41d7-b643-3d4b8653cb65",
   "metadata": {},
   "source": [
    "### **Train the LSTM AE**"
   ]
  },
  {
   "cell_type": "code",
   "execution_count": 42,
   "id": "b0b9a608-2790-4fdf-9523-ed83c558abd7",
   "metadata": {
    "tags": []
   },
   "outputs": [],
   "source": [
    "# Parameters\n",
    "d_input = train.shape[1]"
   ]
  },
  {
   "cell_type": "code",
   "execution_count": 43,
   "id": "b97f6ea8-30c6-4ba3-ac1f-727292888bf6",
   "metadata": {
    "tags": []
   },
   "outputs": [],
   "source": [
    "#Hyperparameters\n",
    "reduction_parameter = 0.7\n",
    "embedding_size = int(d_input * reduction_parameter)"
   ]
  },
  {
   "cell_type": "code",
   "execution_count": 44,
   "id": "6c67945d-0c8f-45ec-bcec-56395733b7c0",
   "metadata": {
    "tags": []
   },
   "outputs": [],
   "source": [
    "#init model and loss\n",
    "model_ae_lstm = LSTM_AE(seq_length,d_input,embedding_size)\n",
    "if torch.cuda.is_available():\n",
    "    model_ae_lstm = model_ae_lstm.cuda()\n",
    "loss_fn = HuberLossWithMask()"
   ]
  },
  {
   "cell_type": "code",
   "execution_count": 45,
   "id": "4b70a7cb-d48c-42a9-bae9-ab8cf829c461",
   "metadata": {
    "tags": []
   },
   "outputs": [],
   "source": [
    "def train_model_AE_LSTM(model,loss_fn,epochs,train_loader,val_loader, learning_rate=learning_rate, gamma=0.9):\n",
    "    optimizer = torch.optim.Adam(model.parameters(),lr = learning_rate)  \n",
    "    scheduler = ExponentialLR(optimizer, gamma=0.9)\n",
    "    train_loss_list = []\n",
    "    val_loss_list = []\n",
    "    for epoch in range(epochs):\n",
    "        # train phase\n",
    "        train_loss = 0\n",
    "        model.train()\n",
    "        for i, (target, masked_input, mask) in enumerate(train_loader):\n",
    "            if torch.cuda.is_available():\n",
    "                target, masked_input, mask = target.cuda(), masked_input.cuda(), mask.cuda()\n",
    "            optimizer.zero_grad()\n",
    "            outputs = model(masked_input)\n",
    "            loss = loss_fn(outputs, target,mask)\n",
    "            loss.backward()\n",
    "            optimizer.step()\n",
    "            train_loss += loss.item()\n",
    "        scheduler.step()\n",
    "        \n",
    "        # validation phase\n",
    "        valid_loss = 0.0\n",
    "        model.eval() \n",
    "        with torch.no_grad():\n",
    "            for batch in val_loader:\n",
    "                x, x_nan, mask = batch\n",
    "                if torch.cuda.is_available():\n",
    "                    x, x_nan, mask = x.cuda(), x_nan.cuda(), mask.cuda()\n",
    "                outputs = model(x_nan)\n",
    "                loss = loss_fn(outputs, x,mask)\n",
    "                valid_loss += loss.item()\n",
    "        train_loss_list.append(train_loss / len(train_loader))\n",
    "        val_loss_list.append(valid_loss/len(val_loader))\n",
    "        print('Epoch {}: train loss: {}, val loss: {}'.format(epoch,train_loss / len(train_loader),valid_loss/len(val_loader)))\n",
    "    # Saving State Dict\n",
    "    date_time = datetime.datetime.now()\n",
    "    index = ('_').join(str(date_time).split(' '))\n",
    "    PATH = './trained_models/LSTM_AE_models/model_final_' + index\n",
    "    torch.save({\n",
    "    'epoch': epochs,\n",
    "    'batch_size': batch_size,\n",
    "    'learning_rate':learning_rate,\n",
    "    'embedding_size':embedding_size,\n",
    "    'missing_ratio': missing_ratio,\n",
    "    'model_state_dict': model.state_dict(),\n",
    "    'train_loss': train_loss_list,\n",
    "    'val_loss':val_loss_list\n",
    "    }, PATH)\n",
    "    clear_output()\n",
    "    print('last model version path: ',PATH)\n",
    "    return train_loss_list, val_loss_list"
   ]
  },
  {
   "cell_type": "code",
   "execution_count": 46,
   "id": "7828fb55-4d1e-46f2-9085-348f9e6a44bb",
   "metadata": {
    "tags": []
   },
   "outputs": [
    {
     "name": "stdout",
     "output_type": "stream",
     "text": [
      "This model has  719  parameter\n"
     ]
    },
    {
     "data": {
      "text/plain": [
       "719"
      ]
     },
     "execution_count": 46,
     "metadata": {},
     "output_type": "execute_result"
    }
   ],
   "source": [
    "count_parameters(model_ae_lstm)"
   ]
  },
  {
   "cell_type": "code",
   "execution_count": 47,
   "id": "1eb84491-cfb4-486c-8151-0d4400355e6d",
   "metadata": {
    "tags": []
   },
   "outputs": [
    {
     "name": "stdout",
     "output_type": "stream",
     "text": [
      "last model version path:  ./trained_models/LSTM_AE_models/model_final_2023-03-05_08:49:13.203637\n"
     ]
    },
    {
     "data": {
      "text/plain": [
       "<Axes: xlabel='epochs'>"
      ]
     },
     "execution_count": 47,
     "metadata": {},
     "output_type": "execute_result"
    },
    {
     "data": {
      "image/png": "[encoded data removed]",
      "text/plain": [
       "<Figure size 1200x300 with 1 Axes>"
      ]
     },
     "metadata": {},
     "output_type": "display_data"
    }
   ],
   "source": [
    "train_loss_list, val_loss_list = train_model_AE_LSTM(model_ae_lstm,loss_fn,epochs,train_loader,val_loader)\n",
    "df = pd.DataFrame({'epochs':[i for i in range(epochs)],'train_loss': train_loss_list,'val_loss': val_loss_list})\n",
    "df.plot(x=\"epochs\", y=[\"train_loss\", \"val_loss\"],kind=\"line\")"
   ]
  },
  {
   "cell_type": "markdown",
   "id": "e7020b0c-01b6-45da-8c2b-8c6df6ae057c",
   "metadata": {
    "tags": []
   },
   "source": [
    "## **Transformer Encoder Model**"
   ]
  },
  {
   "cell_type": "code",
   "execution_count": 48,
   "id": "6bd46908-3aef-4744-aee5-60188cc1d374",
   "metadata": {
    "tags": []
   },
   "outputs": [],
   "source": [
    "class TST(nn.Module):\n",
    "    \"Core encoder is a stack of N layers\"\n",
    "    def __init__(self, Encoder,PositionalEncoding, N, d_model, d_input): ## layer = EncoderLayer\n",
    "        super(TST, self).__init__()\n",
    "        self.first_layer = nn.Linear(d_input, d_model)\n",
    "        self.PE = PositionalEncoding\n",
    "        self.Encoder = Encoder\n",
    "        self.last_layer = nn.Linear(d_model, d_input)\n",
    "\n",
    "    def forward(self, x, mask):\n",
    "        \"Pass the input through embedding and positional encoder and the output through a linear layer\"\n",
    "        x = self.first_layer(x)\n",
    "        x = self.PE(x)\n",
    "        x = self.Encoder(x,mask)\n",
    "        x = self.last_layer(x)\n",
    "        x = torch.sigmoid(x)\n",
    "        return x\n",
    "\n",
    "class Encoder(nn.Module):\n",
    "    \"Core encoder is a stack of N layers\"\n",
    "    def __init__(self, layer, N): \n",
    "        super(Encoder, self).__init__()\n",
    "        self.layers = clones(layer, N)\n",
    "\n",
    "    def forward(self, x, mask):\n",
    "        \"Pass the input (and mask) through each layer in turn.\"\n",
    "        for layer in self.layers:\n",
    "            x = layer(x, mask)\n",
    "        return x\n",
    "\n",
    "class LayerNorm(nn.Module):\n",
    "    \"Construct a layernorm module\"\n",
    "    def __init__(self, features, eps=1e-6):\n",
    "        super(LayerNorm, self).__init__()\n",
    "        self.a_2 = nn.Parameter(torch.ones(features))\n",
    "        self.b_2 = nn.Parameter(torch.zeros(features))\n",
    "        self.eps = eps\n",
    "\n",
    "    def forward(self, x):\n",
    "        mean = x.mean(-1, keepdim=True)\n",
    "        std = x.std(-1, keepdim=True)\n",
    "        return self.a_2 * (x - mean) / (std + self.eps) + self.b_2\n",
    "\n",
    "class SublayerConnection(nn.Module):\n",
    "    \"\"\"\n",
    "    A residual connection followed by a layer norm.\n",
    "    \"\"\"\n",
    "    def __init__(self, size, dropout):\n",
    "        super(SublayerConnection, self).__init__()\n",
    "        self.norm = LayerNorm(size)\n",
    "        self.dropout = nn.Dropout(dropout)\n",
    "\n",
    "    def forward(self, x, sublayer):\n",
    "        \"Apply residual connection to any sublayer with the same size.\"\n",
    "        return x + self.dropout(sublayer(self.norm(x)))\n",
    "\n",
    "class EncoderLayer(nn.Module):\n",
    "    \"Encoder is made up of self-attn and feed forward\"\n",
    "    def __init__(self, size, self_attn, feed_forward, dropout):\n",
    "        super(EncoderLayer, self).__init__()\n",
    "        self.self_attn = self_attn\n",
    "        self.feed_forward = feed_forward\n",
    "        self.sublayer = clones(SublayerConnection(size, dropout), 2)\n",
    "        self.size = size\n",
    "\n",
    "    def forward(self, x, mask):\n",
    "        x = self.sublayer[0].forward(x, lambda x: self.self_attn(x, x, x, mask))\n",
    "        return self.sublayer[1].forward(x, self.feed_forward)\n",
    "\n",
    "def attention(query, key, value, mask=None, dropout=None):\n",
    "    \"Compute 'Scaled Dot Product Attention'\"\n",
    "    d_k = query.size(-1)\n",
    "    scores = torch.matmul(query, key.transpose(-2, -1)) / math.sqrt(d_k)\n",
    "    if mask is not None:\n",
    "        scores = scores.masked_fill(mask == 0, -1e9)\n",
    "    p_attn = scores.softmax(dim=-1)\n",
    "    if dropout is not None:\n",
    "        p_attn = dropout(p_attn)\n",
    "    return torch.matmul(p_attn, value), p_attn\n",
    "\n",
    "class MultiHeadedAttention(nn.Module):\n",
    "    def __init__(self, h, d_model, dropout=0.1):\n",
    "        \"Take in model size and number of heads.\"\n",
    "        super(MultiHeadedAttention, self).__init__()\n",
    "        assert d_model % h == 0\n",
    "        # We assume d_v always equals d_k\n",
    "        self.d_k = d_model // h\n",
    "        self.h = h\n",
    "        self.linears = clones(nn.Linear(d_model, d_model), 4)\n",
    "        self.attn = None\n",
    "        self.dropout = nn.Dropout(p=dropout)\n",
    "\n",
    "    def forward(self, query, key, value, mask=None):\n",
    "        if mask is not None:\n",
    "            # Same mask applied to all h heads.\n",
    "            mask = mask.unsqueeze(1)\n",
    "        nbatches = query.size(0)\n",
    "        # 1) Do all the linear projections in batch from d_model => h x d_k\n",
    "        query, key, value = [\n",
    "            lin(x).view(nbatches, -1, self.h, self.d_k).transpose(1, 2)\n",
    "            for lin, x in zip(self.linears, (query, key, value))\n",
    "        ]\n",
    "        # 2) Apply attention on all the projected vectors in batch.\n",
    "        x, self.attn = attention(\n",
    "            query, key, value, mask=mask, dropout=self.dropout\n",
    "        )\n",
    "        # 3) \"Concat\" using a view and apply a final linear.\n",
    "        x = (\n",
    "            x.transpose(1, 2)\n",
    "            .contiguous()\n",
    "            .view(nbatches, -1, self.h * self.d_k)\n",
    "        )\n",
    "        del query\n",
    "        del key\n",
    "        del value\n",
    "        return self.linears[-1](x)\n",
    "\n",
    "class PositionwiseFeedForward(nn.Module):\n",
    "    \"Implements FFN equation.\"\n",
    "    def __init__(self, d_model, d_ff, dropout=0.1):\n",
    "        super(PositionwiseFeedForward, self).__init__()\n",
    "        self.w_1 = nn.Linear(d_model, d_ff)\n",
    "        self.w_2 = nn.Linear(d_ff, d_model)\n",
    "        self.dropout = nn.Dropout(dropout)\n",
    "\n",
    "    def forward(self, x):\n",
    "        return self.w_2(self.dropout(self.w_1(x).relu()))\n",
    "\n",
    "\n",
    "class PositionalEncoding(nn.Module):\n",
    "    \"Implement the PE function.\"\n",
    "    def __init__(self, d_model, dropout, max_len=5000):\n",
    "        super(PositionalEncoding, self).__init__()\n",
    "        self.dropout = nn.Dropout(p=dropout)\n",
    "        # Compute the positional encodings once in log space.\n",
    "        pe = torch.zeros(max_len, d_model)\n",
    "        position = torch.arange(0, max_len).unsqueeze(1)\n",
    "        div_term = torch.exp(\n",
    "            torch.arange(0, d_model, 2) * -(math.log(10000.0) / d_model)\n",
    "        )\n",
    "        pe[:, 0::2] = torch.sin(position * div_term)\n",
    "        pe[:, 1::2] = torch.cos(position * div_term)\n",
    "        pe = pe.unsqueeze(0)\n",
    "        self.register_buffer(\"pe\", pe)\n",
    "\n",
    "    def forward(self, x):\n",
    "        x = x + self.pe[:, : x.size(1)].requires_grad_(False)\n",
    "        return self.dropout(x)"
   ]
  },
  {
   "cell_type": "code",
   "execution_count": 49,
   "id": "0570f531-f01c-4d5b-820f-637ca94dffc1",
   "metadata": {
    "tags": []
   },
   "outputs": [],
   "source": [
    "def make_model(d_input,N=6, d_model=128, d_ff=2048, h=8, dropout=0.5):\n",
    "    \"Helper: Construct a model from hyperparameters.\"\n",
    "    attn = MultiHeadedAttention(h, d_model)\n",
    "    ff = PositionwiseFeedForward(d_model, d_ff, dropout)\n",
    "    Encoder_model = Encoder(EncoderLayer(d_model, attn, ff, dropout), N)\n",
    "    model = TST(Encoder_model,PositionalEncoding(d_model, dropout), N, d_model, d_input)\n",
    "    # Initialize parameters with Xavier.\n",
    "    for p in model.parameters():\n",
    "        if p.dim() > 1:\n",
    "            nn.init.xavier_uniform_(p)\n",
    "    return model"
   ]
  },
  {
   "cell_type": "markdown",
   "id": "c19897ff-d5e1-4067-a92d-3c92c7fe9507",
   "metadata": {},
   "source": [
    "### **Train TE model**"
   ]
  },
  {
   "cell_type": "code",
   "execution_count": 50,
   "id": "fe29d8ca-ecb5-47c4-86c1-db20cc2850d3",
   "metadata": {
    "tags": []
   },
   "outputs": [],
   "source": [
    "# Parameters\n",
    "d_input = train.shape[1]"
   ]
  },
  {
   "cell_type": "code",
   "execution_count": 56,
   "id": "56f47e54-4a3f-426e-a448-bf1dc4fc6023",
   "metadata": {
    "tags": []
   },
   "outputs": [],
   "source": [
    "# Hyperparameters\n",
    "## dimension of the embedding\n",
    "d_model = 128\n",
    "## dimension of the output of FF layer\n",
    "d_ff = 64\n",
    "## Number of Encoders\n",
    "N = 3\n",
    "## Number of heads\n",
    "h = 8"
   ]
  },
  {
   "cell_type": "code",
   "execution_count": 63,
   "id": "41eac38a-3248-4056-8e9a-f0d4a3197d62",
   "metadata": {
    "tags": []
   },
   "outputs": [],
   "source": [
    "# main loop (train+eval)\n",
    "def main_loop(TS_model, loss_fn, epochs, train_loader, val_loader, learning_rate=learning_rate, gamma=0.9):\n",
    "    optimizer = torch.optim.Adam(TS_model.parameters(),lr = learning_rate)  \n",
    "    scheduler = ExponentialLR(optimizer, gamma=gamma)\n",
    "    \n",
    "    train_loss_list = []\n",
    "    val_loss_list = []\n",
    "    min_valid_loss = np.inf\n",
    "    for epoch in range(epochs):\n",
    "        train_loss = 0\n",
    "        # training\n",
    "        TS_model.train() # mode \"train\" agit sur \"dropout\" ou \"batchnorm\"\n",
    "        for batch in train_loader:\n",
    "            x, x_nan, mask = batch\n",
    "            if torch.cuda.is_available():\n",
    "                x, x_nan, mask = x.cuda(), x_nan.cuda(), mask.cuda()\n",
    "            optimizer.zero_grad()\n",
    "            out = TS_model(x_nan,None)\n",
    "            loss = loss_fn(out, x,mask)\n",
    "            loss.backward()\n",
    "            optimizer.step()\n",
    "            train_loss += loss.item()\n",
    "        scheduler.step()\n",
    "        # validation\n",
    "        valid_loss = 0.0\n",
    "        TS_model.eval() \n",
    "        with torch.no_grad():\n",
    "            for batch in val_loader:\n",
    "                x, x_nan, mask = batch\n",
    "                if torch.cuda.is_available():\n",
    "                    x, x_nan, mask = x.cuda(), x_nan.cuda(), mask.cuda()\n",
    "                out = TS_model(x_nan,None)\n",
    "                loss = loss_fn(out, x,mask)\n",
    "                valid_loss += loss.item()\n",
    "        if min_valid_loss > valid_loss:\n",
    "            min_valid_loss = valid_loss\n",
    "            # Saving State Dict\n",
    "            date_time = datetime.datetime.now()\n",
    "            index = ('_').join(str(date_time).split(' '))\n",
    "            PATH = './trained_models/model_' + index\n",
    "            torch.save({\n",
    "            'epoch': epoch,\n",
    "            'd_input':d_input,\n",
    "            'N': N,\n",
    "            'd_model':d_model,\n",
    "            'd_ff': d_ff,\n",
    "            'h': h,\n",
    "            'dropout':dropout,\n",
    "            'batch_size': batch_size,\n",
    "            'learning_rate':learning_rate,\n",
    "            'missing_ratio': missing_ratio,\n",
    "            'model_state_dict': TS_model.state_dict()\n",
    "            }, PATH)\n",
    "        train_loss_list.append(train_loss / len(train_loader))\n",
    "        val_loss_list.append(valid_loss/len(val_loader))\n",
    "        print('Epoch {}: train loss: {}, val loss: {}'.format(epoch,train_loss / len(train_loader),valid_loss/len(val_loader)))\n",
    "    # Saving State Dict\n",
    "    date_time = datetime.datetime.now()\n",
    "    index = ('_').join(str(date_time).split(' '))\n",
    "    PATH = './trained_models/TS_models/model_final_' + index\n",
    "    torch.save({\n",
    "    'epoch': epochs,\n",
    "    'd_input':d_input,\n",
    "    'N': N,\n",
    "    'd_model':d_model,\n",
    "    'd_ff': d_ff,\n",
    "    'h': h,\n",
    "    'dropout':dropout,\n",
    "    'batch_size': batch_size,\n",
    "    'learning_rate':learning_rate,\n",
    "    'missing_ratio': missing_ratio,\n",
    "    'model_state_dict': TS_model.state_dict(),\n",
    "    'train_loss': train_loss_list,\n",
    "    'val_loss':val_loss_list\n",
    "    }, PATH)\n",
    "    clear_output()\n",
    "    print('last model version path: ',PATH)\n",
    "    return train_loss_list, val_loss_list"
   ]
  },
  {
   "cell_type": "code",
   "execution_count": 64,
   "id": "896f06e4-b12e-42a3-aed5-7a6332dbcfa5",
   "metadata": {
    "tags": []
   },
   "outputs": [],
   "source": [
    "# Init Model\n",
    "TS_model = make_model(d_input=d_input, N=N, d_model=d_model, d_ff=d_ff, h=h, dropout=dropout)\n",
    "if torch.cuda.is_available():\n",
    "    TS_model = TS_model.cuda()\n",
    "# loss function\n",
    "loss_fn = HuberLossWithMask()"
   ]
  },
  {
   "cell_type": "code",
   "execution_count": 65,
   "id": "125b8852-2eb4-4488-a8be-7deedb826389",
   "metadata": {
    "tags": []
   },
   "outputs": [
    {
     "name": "stdout",
     "output_type": "stream",
     "text": [
      "This model has  251335  parameter\n"
     ]
    },
    {
     "data": {
      "text/plain": [
       "251335"
      ]
     },
     "execution_count": 65,
     "metadata": {},
     "output_type": "execute_result"
    }
   ],
   "source": [
    "count_parameters(TS_model)"
   ]
  },
  {
   "cell_type": "code",
   "execution_count": 66,
   "id": "88d7324a-0b68-418a-b781-d0c3887683a6",
   "metadata": {
    "tags": []
   },
   "outputs": [
    {
     "name": "stdout",
     "output_type": "stream",
     "text": [
      "last model version path:  ./trained_models/TS_models/model_final_2023-03-05_09:04:23.789252\n"
     ]
    },
    {
     "data": {
      "text/plain": [
       "<Axes: xlabel='epochs'>"
      ]
     },
     "execution_count": 66,
     "metadata": {},
     "output_type": "execute_result"
    },
    {
     "data": {
      "image/png": "[encoded data removed]",
      "text/plain": [
       "<Figure size 1200x300 with 1 Axes>"
      ]
     },
     "metadata": {},
     "output_type": "display_data"
    }
   ],
   "source": [
    "train_loss_list, val_loss_list = main_loop(TS_model,loss_fn,epochs,train_loader,val_loader)\n",
    "df = pd.DataFrame({'epochs':[i for i in range(epochs)],'train_loss': train_loss_list,'val_loss': val_loss_list})\n",
    "df.plot(x=\"epochs\", y=[\"train_loss\", \"val_loss\"],kind=\"line\")"
   ]
  },
  {
   "cell_type": "markdown",
   "id": "d5a52ee2-a17e-4cdc-9fbc-eeae828a8e34",
   "metadata": {},
   "source": [
    "# **Synthesis**"
   ]
  },
  {
   "cell_type": "code",
   "execution_count": 77,
   "id": "4a465ed7-ff95-4e4c-9354-b9d90562e6ca",
   "metadata": {
    "tags": []
   },
   "outputs": [],
   "source": [
    "# AE model evaluation\n",
    "model_ae=load_model(model_ae,'./trained_models/AE_models/model_final_2023-03-05_08:34:52.351988') #get AE model\n",
    "test_or, test_predicted = test_model_AE(model_ae,test_loader)\n",
    "mse_ae = evaluate_imputation_mse(test_or, test_predicted, test_mask,\"AE\")\n",
    "t_test_ae = t_test(test_or, test_predicted, test_mask, \"AE\")\n",
    "\n",
    "# AE_conv model eval\n",
    "model_conv_ae=load_model(model_conv_ae,'./trained_models/CONV_AE_models/model_final_2023-03-05_08:40:26.840775') #get Conv_AE model\n",
    "test_or, test_predicted = test_model_Seq(model_conv_ae,test_loader)\n",
    "mse_conv_ae = evaluate_imputation_mse(test, test_predicted, test_mask,\"Conv_autoencoder\")\n",
    "t_test_conv_ae = t_test(test_or, test_predicted, test_mask, \"Conv_autoencoder\")\n",
    "\n",
    "# AE_LSTM model eval\n",
    "model_ae_lstm=load_model(model_ae_lstm,'./trained_models/LSTM_AE_models/model_final_2023-03-05_08:49:13.203637') #get LSTM_AE model\n",
    "test_or, test_predicted = test_model_Seq(model_ae_lstm,test_loader)\n",
    "mse_lstm_ae = evaluate_imputation_mse(test, test_predicted, test_mask,\"LSTM_autoencoder\")\n",
    "t_test_lstm_ae = t_test(test_or, test_predicted, test_mask, \"LSTM_autoencoder\")\n",
    "\n",
    "# transformer model eval\n",
    " # _____________ get transformer model _______________________\n",
    "model_path = './trained_models/TS_models/model_final_2023-03-05_09:04:23.789252'\n",
    "info = torch.load(model_path)\n",
    "model_TS = make_model(d_input=info['d_input'], N=info['N'], d_model=info['d_model'], d_ff=info['d_ff'], h=info['h'], dropout=info['dropout'])\n",
    "model_TS=load_model(model_TS,model_path) #get LSTM_AE model\n",
    "if torch.cuda.is_available():\n",
    "    model_TS = model_TS.cuda()\n",
    "#_____________________________________________________________\n",
    "test_or, test_predicted = test_model_TS(model_TS,test_loader)\n",
    "mse_ts = evaluate_imputation_mse(test, test_predicted, test_mask,\"Transformer_encoder\")\n",
    "t_test_ts  = t_test(test_or, test_predicted, test_mask, \"Transformer_encoder\")\n"
   ]
  },
  {
   "cell_type": "code",
   "execution_count": 78,
   "id": "3b36344e-d4c3-434c-b8a9-5ae99d4c9b1c",
   "metadata": {
    "tags": []
   },
   "outputs": [
    {
     "data": {
      "text/html": [
       "<div>\n",
       "<style scoped>\n",
       "    .dataframe tbody tr th:only-of-type {\n",
       "        vertical-align: middle;\n",
       "    }\n",
       "\n",
       "    .dataframe tbody tr th {\n",
       "        vertical-align: top;\n",
       "    }\n",
       "\n",
       "    .dataframe thead th {\n",
       "        text-align: right;\n",
       "    }\n",
       "</style>\n",
       "<table border=\"1\" class=\"dataframe\">\n",
       "  <thead>\n",
       "    <tr style=\"text-align: right;\">\n",
       "      <th></th>\n",
       "      <th>method</th>\n",
       "      <th>mse</th>\n",
       "    </tr>\n",
       "  </thead>\n",
       "  <tbody>\n",
       "    <tr>\n",
       "      <th>0</th>\n",
       "      <td>linear_interpolation</td>\n",
       "      <td>0.018206</td>\n",
       "    </tr>\n",
       "    <tr>\n",
       "      <th>1</th>\n",
       "      <td>Conv_autoencoder</td>\n",
       "      <td>0.018337</td>\n",
       "    </tr>\n",
       "    <tr>\n",
       "      <th>2</th>\n",
       "      <td>mice</td>\n",
       "      <td>0.019465</td>\n",
       "    </tr>\n",
       "    <tr>\n",
       "      <th>3</th>\n",
       "      <td>AE</td>\n",
       "      <td>0.020026</td>\n",
       "    </tr>\n",
       "    <tr>\n",
       "      <th>4</th>\n",
       "      <td>Transformer_encoder</td>\n",
       "      <td>0.031850</td>\n",
       "    </tr>\n",
       "    <tr>\n",
       "      <th>5</th>\n",
       "      <td>NOCB</td>\n",
       "      <td>0.031905</td>\n",
       "    </tr>\n",
       "    <tr>\n",
       "      <th>6</th>\n",
       "      <td>LOCF</td>\n",
       "      <td>0.032472</td>\n",
       "    </tr>\n",
       "    <tr>\n",
       "      <th>7</th>\n",
       "      <td>spline_interpolation</td>\n",
       "      <td>0.034908</td>\n",
       "    </tr>\n",
       "    <tr>\n",
       "      <th>8</th>\n",
       "      <td>mean</td>\n",
       "      <td>0.035487</td>\n",
       "    </tr>\n",
       "    <tr>\n",
       "      <th>9</th>\n",
       "      <td>knn</td>\n",
       "      <td>0.036358</td>\n",
       "    </tr>\n",
       "    <tr>\n",
       "      <th>10</th>\n",
       "      <td>LSTM_autoencoder</td>\n",
       "      <td>0.036454</td>\n",
       "    </tr>\n",
       "    <tr>\n",
       "      <th>11</th>\n",
       "      <td>median</td>\n",
       "      <td>0.045433</td>\n",
       "    </tr>\n",
       "    <tr>\n",
       "      <th>12</th>\n",
       "      <td>mode</td>\n",
       "      <td>0.059962</td>\n",
       "    </tr>\n",
       "  </tbody>\n",
       "</table>\n",
       "</div>"
      ],
      "text/plain": [
       "                  method       mse\n",
       "0   linear_interpolation  0.018206\n",
       "1       Conv_autoencoder  0.018337\n",
       "2                   mice  0.019465\n",
       "3                     AE  0.020026\n",
       "4    Transformer_encoder  0.031850\n",
       "5                   NOCB  0.031905\n",
       "6                   LOCF  0.032472\n",
       "7   spline_interpolation  0.034908\n",
       "8                   mean  0.035487\n",
       "9                    knn  0.036358\n",
       "10      LSTM_autoencoder  0.036454\n",
       "11                median  0.045433\n",
       "12                  mode  0.059962"
      ]
     },
     "execution_count": 78,
     "metadata": {},
     "output_type": "execute_result"
    }
   ],
   "source": [
    "evaluations, tests_classique = evaluate_set(class_methods,test,test_nan,test_mask)\n",
    "evaluations=pd.concat([evaluations,mse_ts,mse_lstm_ae,mse_ae,mse_conv_ae],axis=0)\n",
    "evaluations = evaluations.sort_values(by=[\"mse\"])\n",
    "evaluations.reset_index(drop=True, inplace=True)\n",
    "evaluations"
   ]
  },
  {
   "cell_type": "code",
   "execution_count": 79,
   "id": "fe02ce1b-e7e8-46d1-9fc4-84c532420111",
   "metadata": {
    "tags": []
   },
   "outputs": [
    {
     "data": {
      "text/plain": [
       "Text(0.5, 1.0, 'MSE evaluation of all approaches in test set')"
      ]
     },
     "execution_count": 79,
     "metadata": {},
     "output_type": "execute_result"
    },
    {
     "data": {
      "image/png": "[encoded data removed]",
      "text/plain": [
       "<Figure size 1200x300 with 1 Axes>"
      ]
     },
     "metadata": {},
     "output_type": "display_data"
    }
   ],
   "source": [
    "sns.barplot(x='mse',y='method',data=evaluations)\n",
    "plt.title('MSE evaluation of all approaches in test set')"
   ]
  },
  {
   "cell_type": "code",
   "execution_count": 80,
   "id": "74af2604-feb0-42a6-9417-e94fd4d3d22b",
   "metadata": {
    "tags": []
   },
   "outputs": [
    {
     "data": {
      "text/html": [
       "<div>\n",
       "<style scoped>\n",
       "    .dataframe tbody tr th:only-of-type {\n",
       "        vertical-align: middle;\n",
       "    }\n",
       "\n",
       "    .dataframe tbody tr th {\n",
       "        vertical-align: top;\n",
       "    }\n",
       "\n",
       "    .dataframe thead th {\n",
       "        text-align: right;\n",
       "    }\n",
       "</style>\n",
       "<table border=\"1\" class=\"dataframe\">\n",
       "  <thead>\n",
       "    <tr style=\"text-align: right;\">\n",
       "      <th></th>\n",
       "      <th>method</th>\n",
       "      <th>column</th>\n",
       "      <th>p-value</th>\n",
       "      <th>same_distribution</th>\n",
       "    </tr>\n",
       "  </thead>\n",
       "  <tbody>\n",
       "    <tr>\n",
       "      <th>0</th>\n",
       "      <td>mean</td>\n",
       "      <td>Global_active_power</td>\n",
       "      <td>0.889896</td>\n",
       "      <td>False</td>\n",
       "    </tr>\n",
       "    <tr>\n",
       "      <th>1</th>\n",
       "      <td>mean</td>\n",
       "      <td>Global_reactive_power</td>\n",
       "      <td>0.548351</td>\n",
       "      <td>False</td>\n",
       "    </tr>\n",
       "    <tr>\n",
       "      <th>2</th>\n",
       "      <td>mean</td>\n",
       "      <td>Voltage</td>\n",
       "      <td>0.947904</td>\n",
       "      <td>False</td>\n",
       "    </tr>\n",
       "    <tr>\n",
       "      <th>3</th>\n",
       "      <td>mean</td>\n",
       "      <td>Global_intensity</td>\n",
       "      <td>0.385762</td>\n",
       "      <td>False</td>\n",
       "    </tr>\n",
       "    <tr>\n",
       "      <th>4</th>\n",
       "      <td>mean</td>\n",
       "      <td>Sub_metering_1</td>\n",
       "      <td>0.618196</td>\n",
       "      <td>False</td>\n",
       "    </tr>\n",
       "    <tr>\n",
       "      <th>...</th>\n",
       "      <td>...</td>\n",
       "      <td>...</td>\n",
       "      <td>...</td>\n",
       "      <td>...</td>\n",
       "    </tr>\n",
       "    <tr>\n",
       "      <th>2</th>\n",
       "      <td>Conv_autoencoder</td>\n",
       "      <td>Voltage</td>\n",
       "      <td>0.208269</td>\n",
       "      <td>False</td>\n",
       "    </tr>\n",
       "    <tr>\n",
       "      <th>3</th>\n",
       "      <td>Conv_autoencoder</td>\n",
       "      <td>Global_intensity</td>\n",
       "      <td>0.020630</td>\n",
       "      <td>True</td>\n",
       "    </tr>\n",
       "    <tr>\n",
       "      <th>4</th>\n",
       "      <td>Conv_autoencoder</td>\n",
       "      <td>Sub_metering_1</td>\n",
       "      <td>0.000213</td>\n",
       "      <td>True</td>\n",
       "    </tr>\n",
       "    <tr>\n",
       "      <th>5</th>\n",
       "      <td>Conv_autoencoder</td>\n",
       "      <td>Sub_metering_2</td>\n",
       "      <td>0.076637</td>\n",
       "      <td>False</td>\n",
       "    </tr>\n",
       "    <tr>\n",
       "      <th>6</th>\n",
       "      <td>Conv_autoencoder</td>\n",
       "      <td>Sub_metering_3</td>\n",
       "      <td>0.022850</td>\n",
       "      <td>True</td>\n",
       "    </tr>\n",
       "  </tbody>\n",
       "</table>\n",
       "<p>91 rows × 4 columns</p>\n",
       "</div>"
      ],
      "text/plain": [
       "              method                 column   p-value  same_distribution\n",
       "0               mean    Global_active_power  0.889896              False\n",
       "1               mean  Global_reactive_power  0.548351              False\n",
       "2               mean                Voltage  0.947904              False\n",
       "3               mean       Global_intensity  0.385762              False\n",
       "4               mean         Sub_metering_1  0.618196              False\n",
       "..               ...                    ...       ...                ...\n",
       "2   Conv_autoencoder                Voltage  0.208269              False\n",
       "3   Conv_autoencoder       Global_intensity  0.020630               True\n",
       "4   Conv_autoencoder         Sub_metering_1  0.000213               True\n",
       "5   Conv_autoencoder         Sub_metering_2  0.076637              False\n",
       "6   Conv_autoencoder         Sub_metering_3  0.022850               True\n",
       "\n",
       "[91 rows x 4 columns]"
      ]
     },
     "execution_count": 80,
     "metadata": {},
     "output_type": "execute_result"
    }
   ],
   "source": [
    "tests_classique=pd.concat([tests_classique,t_test_ae,t_test_lstm_ae,t_test_ts,t_test_conv_ae],axis=0)\n",
    "tests_classique"
   ]
  },
  {
   "cell_type": "code",
   "execution_count": 81,
   "id": "44193302-6124-4f81-b7de-0e74f608df5d",
   "metadata": {
    "tags": []
   },
   "outputs": [
    {
     "data": {
      "text/html": [
       "<div>\n",
       "<style scoped>\n",
       "    .dataframe tbody tr th:only-of-type {\n",
       "        vertical-align: middle;\n",
       "    }\n",
       "\n",
       "    .dataframe tbody tr th {\n",
       "        vertical-align: top;\n",
       "    }\n",
       "\n",
       "    .dataframe thead th {\n",
       "        text-align: right;\n",
       "    }\n",
       "</style>\n",
       "<table border=\"1\" class=\"dataframe\">\n",
       "  <thead>\n",
       "    <tr style=\"text-align: right;\">\n",
       "      <th></th>\n",
       "      <th>method</th>\n",
       "      <th>same_distribution</th>\n",
       "    </tr>\n",
       "  </thead>\n",
       "  <tbody>\n",
       "    <tr>\n",
       "      <th>0</th>\n",
       "      <td>AE</td>\n",
       "      <td>6</td>\n",
       "    </tr>\n",
       "    <tr>\n",
       "      <th>1</th>\n",
       "      <td>Conv_autoencoder</td>\n",
       "      <td>5</td>\n",
       "    </tr>\n",
       "    <tr>\n",
       "      <th>2</th>\n",
       "      <td>LOCF</td>\n",
       "      <td>0</td>\n",
       "    </tr>\n",
       "    <tr>\n",
       "      <th>3</th>\n",
       "      <td>LSTM_autoencoder</td>\n",
       "      <td>5</td>\n",
       "    </tr>\n",
       "    <tr>\n",
       "      <th>4</th>\n",
       "      <td>NOCB</td>\n",
       "      <td>0</td>\n",
       "    </tr>\n",
       "    <tr>\n",
       "      <th>5</th>\n",
       "      <td>Transformer_encoder</td>\n",
       "      <td>7</td>\n",
       "    </tr>\n",
       "    <tr>\n",
       "      <th>6</th>\n",
       "      <td>knn</td>\n",
       "      <td>3</td>\n",
       "    </tr>\n",
       "    <tr>\n",
       "      <th>7</th>\n",
       "      <td>linear_interpolation</td>\n",
       "      <td>0</td>\n",
       "    </tr>\n",
       "    <tr>\n",
       "      <th>8</th>\n",
       "      <td>mean</td>\n",
       "      <td>0</td>\n",
       "    </tr>\n",
       "    <tr>\n",
       "      <th>9</th>\n",
       "      <td>median</td>\n",
       "      <td>6</td>\n",
       "    </tr>\n",
       "    <tr>\n",
       "      <th>10</th>\n",
       "      <td>mice</td>\n",
       "      <td>0</td>\n",
       "    </tr>\n",
       "    <tr>\n",
       "      <th>11</th>\n",
       "      <td>mode</td>\n",
       "      <td>7</td>\n",
       "    </tr>\n",
       "    <tr>\n",
       "      <th>12</th>\n",
       "      <td>spline_interpolation</td>\n",
       "      <td>0</td>\n",
       "    </tr>\n",
       "  </tbody>\n",
       "</table>\n",
       "</div>"
      ],
      "text/plain": [
       "                  method  same_distribution\n",
       "0                     AE                  6\n",
       "1       Conv_autoencoder                  5\n",
       "2                   LOCF                  0\n",
       "3       LSTM_autoencoder                  5\n",
       "4                   NOCB                  0\n",
       "5    Transformer_encoder                  7\n",
       "6                    knn                  3\n",
       "7   linear_interpolation                  0\n",
       "8                   mean                  0\n",
       "9                 median                  6\n",
       "10                  mice                  0\n",
       "11                  mode                  7\n",
       "12  spline_interpolation                  0"
      ]
     },
     "execution_count": 81,
     "metadata": {},
     "output_type": "execute_result"
    }
   ],
   "source": [
    "tests_classique[\"same_distribution\"] = tests_classique[\"same_distribution\"].astype(int)\n",
    "tests_classique.drop(['column','p-value'],axis = 1,inplace=True)\n",
    "tests_classique = tests_classique.groupby(['method'],as_index=False).sum()\n",
    "tests_classique"
   ]
  },
  {
   "cell_type": "code",
   "execution_count": 82,
   "id": "f0ebc0de-f035-4edf-902e-06c666a1d61e",
   "metadata": {
    "tags": []
   },
   "outputs": [],
   "source": [
    "tests_classique = tests_classique.sort_values(by=[\"same_distribution\"],ascending=False)"
   ]
  },
  {
   "cell_type": "code",
   "execution_count": 83,
   "id": "c678683c-591a-42ad-a2c1-58695b173a65",
   "metadata": {
    "tags": []
   },
   "outputs": [
    {
     "data": {
      "text/plain": [
       "Text(0.5, 1.0, 'total number of features with same distribution after imputation')"
      ]
     },
     "execution_count": 83,
     "metadata": {},
     "output_type": "execute_result"
    },
    {
     "data": {
      "image/png": "[encoded data removed]",
      "text/plain": [
       "<Figure size 1200x300 with 1 Axes>"
      ]
     },
     "metadata": {},
     "output_type": "display_data"
    }
   ],
   "source": [
    "sns.barplot(x='same_distribution',y='method',data=tests_classique)\n",
    "plt.title(\"total number of features with same distribution after imputation\")"
   ]
  }
 ],
 "metadata": {
  "kernelspec": {
   "display_name": "Python 3 (ipykernel)",
   "language": "python",
   "name": "python3"
  },
  "language_info": {
   "codemirror_mode": {
    "name": "ipython",
    "version": 3
   },
   "file_extension": ".py",
   "mimetype": "text/x-python",
   "name": "python",
   "nbconvert_exporter": "python",
   "pygments_lexer": "ipython3",
   "version": "3.8.10"
  },
  "vscode": {
   "interpreter": {
    "hash": "916dbcbb3f70747c44a77c7bcd40155683ae19c65e1c03b4aa3499c5328201f1"
   }
  }
 },
 "nbformat": 4,
 "nbformat_minor": 5
}
