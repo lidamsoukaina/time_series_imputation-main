{
 "cells": [
  {
   "attachments": {},
   "cell_type": "markdown",
   "id": "6c9564c4",
   "metadata": {},
   "source": [
    "# **Modules**"
   ]
  },
  {
   "cell_type": "code",
   "execution_count": 30,
   "id": "391e6cca-2bdf-44c4-bd86-5cf0871cc85c",
   "metadata": {
    "tags": []
   },
   "outputs": [],
   "source": [
    "from sklearn.model_selection import train_test_split\n",
    "import numpy as np\n",
    "import pandas as pd\n",
    "import matplotlib.pyplot as plt\n",
    "import datetime"
   ]
  },
  {
   "attachments": {},
   "cell_type": "markdown",
   "id": "65c7e5ab-efa3-453f-8721-a93cbd8f86af",
   "metadata": {},
   "source": [
    "# Fetch data"
   ]
  },
  {
   "cell_type": "code",
   "execution_count": 31,
   "id": "80ae51a3",
   "metadata": {},
   "outputs": [],
   "source": [
    "# Load data from the drive (https://drive.google.com/drive/folders/1YrzUIwOvwenaq2DVtTzNyerna5aCreQE?usp=sharing)  and put it in the data folder\n",
    "data = pd.read_csv('./data/household_power_consumption.csv')"
   ]
  },
  {
   "attachments": {},
   "cell_type": "markdown",
   "id": "031e48f8",
   "metadata": {},
   "source": [
    "# Agglomerate Data per Hour"
   ]
  },
  {
   "cell_type": "code",
   "execution_count": 32,
   "id": "a9c2a091-8ba8-4023-a376-015ed05bc784",
   "metadata": {},
   "outputs": [],
   "source": [
    "test_size = 0.3\n",
    "train_size = 0.8\n",
    "random_state = 42\n",
    "data_len = 13000"
   ]
  },
  {
   "cell_type": "code",
   "execution_count": 33,
   "id": "d0167f51-e47a-4a60-a6dc-96233624c9e4",
   "metadata": {},
   "outputs": [],
   "source": [
    "\n",
    "def agglomerate_data(data, strategy = 'mean', frequence = 'H'):\n",
    "    data['Date'] = pd.to_datetime(data['Date'] + data['Time'], format='%Y-%m-%d%H:%M:%S')\n",
    "    data.drop(columns=[\"Time\"], inplace = True)\n",
    "    if strategy == 'mean':\n",
    "        df = data.resample(frequence, on='Date').mean()\n",
    "    elif strategy == \"sum\":\n",
    "        df = data.resample(frequence, on='Date').sum()\n",
    "    else:\n",
    "        assert(strategy == \"sum\" or strategy == \"mean\")\n",
    "    return df\n",
    "\n",
    "data_per_hour = agglomerate_data(data)\n"
   ]
  },
  {
   "cell_type": "code",
   "execution_count": 34,
   "id": "0e9a1e2b-3b4b-4e10-9be7-5bddbc9e4325",
   "metadata": {},
   "outputs": [
    {
     "data": {
      "text/html": [
       "<div>\n",
       "<style scoped>\n",
       "    .dataframe tbody tr th:only-of-type {\n",
       "        vertical-align: middle;\n",
       "    }\n",
       "\n",
       "    .dataframe tbody tr th {\n",
       "        vertical-align: top;\n",
       "    }\n",
       "\n",
       "    .dataframe thead th {\n",
       "        text-align: right;\n",
       "    }\n",
       "</style>\n",
       "<table border=\"1\" class=\"dataframe\">\n",
       "  <thead>\n",
       "    <tr style=\"text-align: right;\">\n",
       "      <th></th>\n",
       "      <th>Global_active_power</th>\n",
       "      <th>Global_reactive_power</th>\n",
       "      <th>Voltage</th>\n",
       "      <th>Global_intensity</th>\n",
       "      <th>Sub_metering_1</th>\n",
       "      <th>Sub_metering_2</th>\n",
       "      <th>Sub_metering_3</th>\n",
       "    </tr>\n",
       "    <tr>\n",
       "      <th>Date</th>\n",
       "      <th></th>\n",
       "      <th></th>\n",
       "      <th></th>\n",
       "      <th></th>\n",
       "      <th></th>\n",
       "      <th></th>\n",
       "      <th></th>\n",
       "    </tr>\n",
       "  </thead>\n",
       "  <tbody>\n",
       "    <tr>\n",
       "      <th>2006-12-16 17:00:00</th>\n",
       "      <td>4.222889</td>\n",
       "      <td>0.229000</td>\n",
       "      <td>234.643889</td>\n",
       "      <td>18.1</td>\n",
       "      <td>0.0</td>\n",
       "      <td>0.527778</td>\n",
       "      <td>16.861111</td>\n",
       "    </tr>\n",
       "    <tr>\n",
       "      <th>2006-12-16 18:00:00</th>\n",
       "      <td>3.632200</td>\n",
       "      <td>0.080033</td>\n",
       "      <td>234.580167</td>\n",
       "      <td>15.6</td>\n",
       "      <td>0.0</td>\n",
       "      <td>6.716667</td>\n",
       "      <td>16.866667</td>\n",
       "    </tr>\n",
       "  </tbody>\n",
       "</table>\n",
       "</div>"
      ],
      "text/plain": [
       "                     Global_active_power  Global_reactive_power     Voltage  \\\n",
       "Date                                                                          \n",
       "2006-12-16 17:00:00             4.222889               0.229000  234.643889   \n",
       "2006-12-16 18:00:00             3.632200               0.080033  234.580167   \n",
       "\n",
       "                     Global_intensity  Sub_metering_1  Sub_metering_2  \\\n",
       "Date                                                                    \n",
       "2006-12-16 17:00:00              18.1             0.0        0.527778   \n",
       "2006-12-16 18:00:00              15.6             0.0        6.716667   \n",
       "\n",
       "                     Sub_metering_3  \n",
       "Date                                 \n",
       "2006-12-16 17:00:00       16.861111  \n",
       "2006-12-16 18:00:00       16.866667  "
      ]
     },
     "execution_count": 34,
     "metadata": {},
     "output_type": "execute_result"
    }
   ],
   "source": [
    "data_per_hour.head(2)"
   ]
  },
  {
   "cell_type": "code",
   "execution_count": 35,
   "id": "4ce5155e-dff6-485c-b1ae-593566d79675",
   "metadata": {},
   "outputs": [],
   "source": [
    "df, test = train_test_split(data_per_hour,shuffle = False,test_size=test_size, random_state=random_state)\n",
    "train, val = train_test_split(df,shuffle = False,train_size=train_size, random_state=random_state)"
   ]
  },
  {
   "cell_type": "code",
   "execution_count": 6,
   "id": "4da17b7c-056d-4d42-a0cc-5bde0e0940f0",
   "metadata": {},
   "outputs": [],
   "source": [
    "train.dropna(inplace=True)"
   ]
  },
  {
   "cell_type": "code",
   "execution_count": null,
   "id": "563918a6-44d0-4aad-b191-c5194e2c0689",
   "metadata": {},
   "outputs": [],
   "source": [
    "test.to_csv('data/test_per_hour.csv')  \n",
    "df.to_csv('data/data_per_hour.csv')  \n",
    "train.to_csv('data/train_per_hour.csv')  \n",
    "val.to_csv('data/val_per_hour.csv')  "
   ]
  }
 ],
 "metadata": {
  "kernelspec": {
   "display_name": "Python 3 (ipykernel)",
   "language": "python",
   "name": "python3"
  },
  "language_info": {
   "codemirror_mode": {
    "name": "ipython",
    "version": 3
   },
   "file_extension": ".py",
   "mimetype": "text/x-python",
   "name": "python",
   "nbconvert_exporter": "python",
   "pygments_lexer": "ipython3",
   "version": "3.9.16"
  },
  "vscode": {
   "interpreter": {
    "hash": "8163206519dc052f3e94ad277c9dc97ab1b67c3424bfce189bfa765333609611"
   }
  }
 },
 "nbformat": 4,
 "nbformat_minor": 5
}
